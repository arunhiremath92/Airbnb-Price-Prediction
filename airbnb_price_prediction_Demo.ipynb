{
 "cells": [
  {
   "cell_type": "code",
   "execution_count": 79,
   "metadata": {},
   "outputs": [],
   "source": [
    "import pandas as pd\n",
    "import numpy as np\n",
    "import seaborn as sns\n",
    "import matplotlib.pyplot as plt\n",
    "import scipy\n",
    "from scipy.stats import norm"
   ]
  },
  {
   "cell_type": "code",
   "execution_count": 80,
   "metadata": {},
   "outputs": [],
   "source": [
    "pd.options.display.max_columns = None\n",
    "pd.options.display.max_rows = None\n",
    "df = pd.read_csv(\"src/listings_summary.csv\")"
   ]
  },
  {
   "cell_type": "code",
   "execution_count": 81,
   "metadata": {},
   "outputs": [],
   "source": [
    "#source : https://www.kaggle.com/mhmdpkts/predict-price-ann-data-cleaning-future-engineering\n",
    "#fig, ax = plt.subplots(figsize = (20, 5))\n",
    "#sns.heatmap(df.isna(), cmap = \"cubehelix_r\", yticklabels='')\n",
    "#plt.show()"
   ]
  },
  {
   "cell_type": "code",
   "execution_count": 82,
   "metadata": {},
   "outputs": [],
   "source": [
    "#Sort out the Price-Section\n",
    "df.price = df.price.str.replace('$', '').str.replace(',', '').astype(float)\n",
    "df.cleaning_fee = df.cleaning_fee.str.replace('$', '').str.replace(',', '').astype(float)\n",
    "df.security_deposit = df.security_deposit.str.replace('$', '').str.replace(',', '').astype(float)\n",
    "df.extra_people = df.extra_people.str.replace('$', '').str.replace(',', '').astype(float)\n",
    "\n",
    "df['cleaning_fee'].fillna(0, inplace=True)\n",
    "df['security_deposit'].fillna(0, inplace=True)\n",
    "#  + df['cleaning_fee'] + df['security_deposit']\n",
    "df['total_price'] = df['price']\n",
    "df.drop(['price'], inplace=True, axis = 1)"
   ]
  },
  {
   "cell_type": "code",
   "execution_count": 83,
   "metadata": {},
   "outputs": [],
   "source": [
    "def nan_checker(df):\n",
    "    df_nan = pd.DataFrame([[var, df[var].isna().sum() / df.shape[0], df[var].dtype]\n",
    "                           for var in df.columns if df[var].isna().sum() > 0],\n",
    "                          columns=['var', 'proportion', 'dtype'])\n",
    "    return df_nan"
   ]
  },
  {
   "cell_type": "code",
   "execution_count": 84,
   "metadata": {},
   "outputs": [],
   "source": [
    "#removing 100% of the NULL values and identity values\n",
    "col_list_to_drop = [] \n",
    "columns = df.columns\n",
    "df_nan = nan_checker(df)\n",
    "length = len(df)\n",
    "for col in df.columns:  \n",
    "    if (df[col].dtype != 'float64'and df[col].nunique(dropna=True) == df[col].notnull().sum()):\n",
    "        col_list_to_drop.append(col)\n",
    "df.drop(col_list_to_drop, inplace=True, axis = 1)"
   ]
  },
  {
   "cell_type": "code",
   "execution_count": 85,
   "metadata": {},
   "outputs": [],
   "source": [
    "for row in df_nan.iterrows():\n",
    "    column_name = row[1]['var']\n",
    "    rate = round(row[1]['proportion'], 3)\n",
    "    if rate > 0.5:\n",
    "        df.drop(column_name, inplace=True, axis = 1)"
   ]
  },
  {
   "cell_type": "code",
   "execution_count": 86,
   "metadata": {},
   "outputs": [],
   "source": [
    "#df.describe(include=\"all\")"
   ]
  },
  {
   "cell_type": "markdown",
   "metadata": {},
   "source": [
    "We will not need columns containing the following types of data-for our analysis\n",
    "\n",
    "\n",
    "columns with only true/false values\n",
    "columns that have text (not within the scope of our analysis)\n",
    "columns containing personnel information, except for the ones that guranntee some kind of assurance(licence, or profile pictures)\n",
    "\n",
    "Make everything as relevant, unless it is really irrelevant to your prediction."
   ]
  },
  {
   "cell_type": "code",
   "execution_count": 87,
   "metadata": {},
   "outputs": [],
   "source": [
    "review_host_text_columns =[\"scrape_id\",\n",
    "                           \"picture_url\",\n",
    "                           \"last_scraped\",\n",
    "                           \"name\",\n",
    "                           \"summary\", \n",
    "                           \"space\",\n",
    "                           \"description\",\n",
    "                           \"experiences_offered\", \n",
    "                           \"neighborhood_overview\",\n",
    "                           \"transit\",\n",
    "                           \"house_rules\", \n",
    "                           \"host_id\",\n",
    "                           \"host_url\",\n",
    "                           \"host_location\",\n",
    "                           \"host_neighbourhood\",\n",
    "                           \"host_name\",\n",
    "                           \"host_since\", \n",
    "                           \"host_thumbnail_url\",\n",
    "                           \"host_picture_url\",\n",
    "                           \"host_listings_count\",\n",
    "                           \"host_total_listings_count\", \n",
    "                           \"host_verifications\",\n",
    "                           \"calendar_updated\",\n",
    "                           \"has_availability\",\n",
    "                           \"availability_30\",\n",
    "                           \"availability_60\",\n",
    "                           \"availability_90\",\n",
    "                           \"calendar_last_scraped\",\n",
    "                           \"number_of_reviews\",\n",
    "                           \"first_review\",\n",
    "                           \"last_review\",\n",
    "                           \"review_scores_rating\",\n",
    "                           \"review_scores_accuracy\",\n",
    "                           \"review_scores_cleanliness\",\n",
    "                           \"review_scores_checkin\",\n",
    "                           \"review_scores_communication\",\n",
    "                           \"review_scores_location\",\n",
    "                           \"review_scores_value\",\n",
    "                           \"calculated_host_listings_count\", \n",
    "                           \"reviews_per_month\"]\n",
    "\n",
    "df_dropped = df.drop(review_host_text_columns, inplace=False, axis = 1).copy(deep=True)\n",
    "#df_dropped.describe(include=\"all\")"
   ]
  },
  {
   "cell_type": "markdown",
   "metadata": {},
   "source": [
    "<h3>Work on the Missing Data</h3>\n",
    "\n",
    " 1) Strategy 1: Drop all missing rows and check the outcome\n",
    " \n",
    " 2) Strategy 2: Impute the missing values with mean or most repetative element\n"
   ]
  },
  {
   "cell_type": "code",
   "execution_count": 88,
   "metadata": {},
   "outputs": [
    {
     "name": "stdout",
     "output_type": "stream",
     "text": [
      "Percentage of Rows Dropped  8.832919474991131\n"
     ]
    }
   ],
   "source": [
    "#Strategy 1 \n",
    "df_dropped_rows = df_dropped.dropna()\n",
    "percentange_of_rows_dropped = (len(df_dropped) - len(df_dropped_rows))/len(df_dropped)\n",
    "print(\"Percentage of Rows Dropped  {}\".format(percentange_of_rows_dropped * 100))"
   ]
  },
  {
   "cell_type": "code",
   "execution_count": 89,
   "metadata": {},
   "outputs": [],
   "source": [
    "#strategy 2 Imputing all the values\n",
    "from sklearn.impute import SimpleImputer\n",
    "#filling all the missing values with mean\n",
    "numerical_imputer = SimpleImputer(missing_values=np.nan, strategy='mean')\n",
    "category__imputer = SimpleImputer(missing_values=np.nan,strategy=\"most_frequent\")\n"
   ]
  },
  {
   "cell_type": "code",
   "execution_count": 91,
   "metadata": {},
   "outputs": [],
   "source": [
    "df_dropped_imputed = df_dropped_rows.copy(deep=True)\n",
    "df_nan = nan_checker(df_dropped_imputed)\n",
    "for row in df_nan.iterrows():\n",
    "    column_name = row[1]['var']\n",
    "    if df_dropped_imputed[column_name].dtype == 'float64':\n",
    "        df_dropped_imputed[column_name] = numerical_imputer.fit_transform(df_dropped_imputed[[column_name]])\n",
    "    else:\n",
    "        df_dropped_imputed[column_name] = category__imputer.fit_transform(df_dropped_imputed[[column_name]])"
   ]
  },
  {
   "cell_type": "markdown",
   "metadata": {},
   "source": [
    "<h1> Null Data Removed for all columns </h1>"
   ]
  },
  {
   "cell_type": "code",
   "execution_count": 92,
   "metadata": {},
   "outputs": [],
   "source": [
    "#decide between strategy 1 or 2\n",
    "df_na_filtered = df_dropped_imputed.copy(deep=True)"
   ]
  },
  {
   "cell_type": "code",
   "execution_count": 93,
   "metadata": {},
   "outputs": [],
   "source": [
    "#df_na_filtered.describe(include=\"all\")"
   ]
  },
  {
   "cell_type": "markdown",
   "metadata": {},
   "source": [
    "Dropping all information related to location, except for neighbour_group_cleansed: This column indicates which part of berlin the listings are located in. Secondly, the lattitude and logitude would be converted to distance from centre."
   ]
  },
  {
   "cell_type": "code",
   "execution_count": 94,
   "metadata": {},
   "outputs": [],
   "source": [
    "location_columns                 = [\"street\",\n",
    "                                   \"neighbourhood\",\n",
    "                                   \"neighbourhood_cleansed\",\n",
    "                                   \"neighbourhood_group_cleansed\",\n",
    "                                   \"city\",\n",
    "                                   \"state\",\n",
    "                                   \"zipcode\",\n",
    "                                   \"market\",\n",
    "                                   \"smart_location\",\n",
    "                                   \"country_code\",\n",
    "                                   \"country\",\n",
    "                                   \"is_location_exact\",\n",
    "                                   ]\n",
    "# for col in location_columns:\n",
    "#     print(\"------------------Column Name: {}\\n{}\".format(col, df_na_filtered[col].value_counts()))"
   ]
  },
  {
   "cell_type": "markdown",
   "metadata": {},
   "source": [
    "Location Columns having highly skewed values will be removed, todo: need a visual aid of all the columns and count of each value (except for latitude and longitude)"
   ]
  },
  {
   "cell_type": "code",
   "execution_count": 95,
   "metadata": {},
   "outputs": [],
   "source": [
    "df_na_filtered.drop(location_columns, axis=1, inplace=True)"
   ]
  },
  {
   "cell_type": "code",
   "execution_count": 96,
   "metadata": {},
   "outputs": [
    {
     "data": {
      "text/html": [
       "<div>\n",
       "<style scoped>\n",
       "    .dataframe tbody tr th:only-of-type {\n",
       "        vertical-align: middle;\n",
       "    }\n",
       "\n",
       "    .dataframe tbody tr th {\n",
       "        vertical-align: top;\n",
       "    }\n",
       "\n",
       "    .dataframe thead th {\n",
       "        text-align: right;\n",
       "    }\n",
       "</style>\n",
       "<table border=\"1\" class=\"dataframe\">\n",
       "  <thead>\n",
       "    <tr style=\"text-align: right;\">\n",
       "      <th></th>\n",
       "      <th>host_is_superhost</th>\n",
       "      <th>host_has_profile_pic</th>\n",
       "      <th>host_identity_verified</th>\n",
       "      <th>property_type</th>\n",
       "      <th>room_type</th>\n",
       "      <th>accommodates</th>\n",
       "      <th>bathrooms</th>\n",
       "      <th>bedrooms</th>\n",
       "      <th>beds</th>\n",
       "      <th>bed_type</th>\n",
       "      <th>amenities</th>\n",
       "      <th>security_deposit</th>\n",
       "      <th>cleaning_fee</th>\n",
       "      <th>guests_included</th>\n",
       "      <th>extra_people</th>\n",
       "      <th>minimum_nights</th>\n",
       "      <th>maximum_nights</th>\n",
       "      <th>availability_365</th>\n",
       "      <th>requires_license</th>\n",
       "      <th>instant_bookable</th>\n",
       "      <th>is_business_travel_ready</th>\n",
       "      <th>cancellation_policy</th>\n",
       "      <th>require_guest_profile_picture</th>\n",
       "      <th>require_guest_phone_verification</th>\n",
       "      <th>total_price</th>\n",
       "      <th>distance</th>\n",
       "    </tr>\n",
       "  </thead>\n",
       "  <tbody>\n",
       "    <tr>\n",
       "      <th>0</th>\n",
       "      <td>t</td>\n",
       "      <td>t</td>\n",
       "      <td>t</td>\n",
       "      <td>Guesthouse</td>\n",
       "      <td>Entire home/apt</td>\n",
       "      <td>3</td>\n",
       "      <td>1.0</td>\n",
       "      <td>1.0</td>\n",
       "      <td>2.0</td>\n",
       "      <td>Real Bed</td>\n",
       "      <td>{TV,\"Cable TV\",Wifi,Kitchen,Gym,Heating,\"Famil...</td>\n",
       "      <td>200.0</td>\n",
       "      <td>30.0</td>\n",
       "      <td>1</td>\n",
       "      <td>28.0</td>\n",
       "      <td>4</td>\n",
       "      <td>1125</td>\n",
       "      <td>141</td>\n",
       "      <td>t</td>\n",
       "      <td>f</td>\n",
       "      <td>f</td>\n",
       "      <td>strict_14_with_grace_period</td>\n",
       "      <td>f</td>\n",
       "      <td>f</td>\n",
       "      <td>60.0</td>\n",
       "      <td>3.533182</td>\n",
       "    </tr>\n",
       "    <tr>\n",
       "      <th>2</th>\n",
       "      <td>f</td>\n",
       "      <td>t</td>\n",
       "      <td>t</td>\n",
       "      <td>Apartment</td>\n",
       "      <td>Entire home/apt</td>\n",
       "      <td>4</td>\n",
       "      <td>1.0</td>\n",
       "      <td>1.0</td>\n",
       "      <td>2.0</td>\n",
       "      <td>Real Bed</td>\n",
       "      <td>{Internet,Wifi,Kitchen,\"Buzzer/wireless interc...</td>\n",
       "      <td>200.0</td>\n",
       "      <td>50.0</td>\n",
       "      <td>2</td>\n",
       "      <td>20.0</td>\n",
       "      <td>62</td>\n",
       "      <td>1125</td>\n",
       "      <td>220</td>\n",
       "      <td>t</td>\n",
       "      <td>t</td>\n",
       "      <td>f</td>\n",
       "      <td>strict_14_with_grace_period</td>\n",
       "      <td>f</td>\n",
       "      <td>f</td>\n",
       "      <td>90.0</td>\n",
       "      <td>3.695677</td>\n",
       "    </tr>\n",
       "    <tr>\n",
       "      <th>3</th>\n",
       "      <td>f</td>\n",
       "      <td>t</td>\n",
       "      <td>t</td>\n",
       "      <td>Apartment</td>\n",
       "      <td>Private room</td>\n",
       "      <td>2</td>\n",
       "      <td>1.0</td>\n",
       "      <td>1.0</td>\n",
       "      <td>1.0</td>\n",
       "      <td>Pull-out Sofa</td>\n",
       "      <td>{Internet,Wifi,\"Pets allowed\",\"Pets live on th...</td>\n",
       "      <td>250.0</td>\n",
       "      <td>30.0</td>\n",
       "      <td>1</td>\n",
       "      <td>18.0</td>\n",
       "      <td>5</td>\n",
       "      <td>360</td>\n",
       "      <td>297</td>\n",
       "      <td>t</td>\n",
       "      <td>f</td>\n",
       "      <td>f</td>\n",
       "      <td>strict_14_with_grace_period</td>\n",
       "      <td>f</td>\n",
       "      <td>f</td>\n",
       "      <td>26.0</td>\n",
       "      <td>3.755285</td>\n",
       "    </tr>\n",
       "    <tr>\n",
       "      <th>4</th>\n",
       "      <td>t</td>\n",
       "      <td>t</td>\n",
       "      <td>t</td>\n",
       "      <td>Apartment</td>\n",
       "      <td>Private room</td>\n",
       "      <td>2</td>\n",
       "      <td>1.0</td>\n",
       "      <td>1.0</td>\n",
       "      <td>2.0</td>\n",
       "      <td>Real Bed</td>\n",
       "      <td>{Wifi,Heating,\"Family/kid friendly\",Essentials...</td>\n",
       "      <td>0.0</td>\n",
       "      <td>0.0</td>\n",
       "      <td>1</td>\n",
       "      <td>24.0</td>\n",
       "      <td>2</td>\n",
       "      <td>10</td>\n",
       "      <td>26</td>\n",
       "      <td>t</td>\n",
       "      <td>f</td>\n",
       "      <td>f</td>\n",
       "      <td>moderate</td>\n",
       "      <td>f</td>\n",
       "      <td>f</td>\n",
       "      <td>42.0</td>\n",
       "      <td>4.550423</td>\n",
       "    </tr>\n",
       "    <tr>\n",
       "      <th>5</th>\n",
       "      <td>f</td>\n",
       "      <td>t</td>\n",
       "      <td>t</td>\n",
       "      <td>Apartment</td>\n",
       "      <td>Entire home/apt</td>\n",
       "      <td>7</td>\n",
       "      <td>2.5</td>\n",
       "      <td>4.0</td>\n",
       "      <td>7.0</td>\n",
       "      <td>Real Bed</td>\n",
       "      <td>{TV,\"Cable TV\",Internet,Wifi,Kitchen,\"Paid par...</td>\n",
       "      <td>400.0</td>\n",
       "      <td>80.0</td>\n",
       "      <td>5</td>\n",
       "      <td>10.0</td>\n",
       "      <td>6</td>\n",
       "      <td>14</td>\n",
       "      <td>137</td>\n",
       "      <td>t</td>\n",
       "      <td>f</td>\n",
       "      <td>f</td>\n",
       "      <td>strict_14_with_grace_period</td>\n",
       "      <td>f</td>\n",
       "      <td>f</td>\n",
       "      <td>180.0</td>\n",
       "      <td>3.458693</td>\n",
       "    </tr>\n",
       "  </tbody>\n",
       "</table>\n",
       "</div>"
      ],
      "text/plain": [
       "  host_is_superhost host_has_profile_pic host_identity_verified property_type  \\\n",
       "0                 t                    t                      t    Guesthouse   \n",
       "2                 f                    t                      t     Apartment   \n",
       "3                 f                    t                      t     Apartment   \n",
       "4                 t                    t                      t     Apartment   \n",
       "5                 f                    t                      t     Apartment   \n",
       "\n",
       "         room_type  accommodates  bathrooms  bedrooms  beds       bed_type  \\\n",
       "0  Entire home/apt             3        1.0       1.0   2.0       Real Bed   \n",
       "2  Entire home/apt             4        1.0       1.0   2.0       Real Bed   \n",
       "3     Private room             2        1.0       1.0   1.0  Pull-out Sofa   \n",
       "4     Private room             2        1.0       1.0   2.0       Real Bed   \n",
       "5  Entire home/apt             7        2.5       4.0   7.0       Real Bed   \n",
       "\n",
       "                                           amenities  security_deposit  \\\n",
       "0  {TV,\"Cable TV\",Wifi,Kitchen,Gym,Heating,\"Famil...             200.0   \n",
       "2  {Internet,Wifi,Kitchen,\"Buzzer/wireless interc...             200.0   \n",
       "3  {Internet,Wifi,\"Pets allowed\",\"Pets live on th...             250.0   \n",
       "4  {Wifi,Heating,\"Family/kid friendly\",Essentials...               0.0   \n",
       "5  {TV,\"Cable TV\",Internet,Wifi,Kitchen,\"Paid par...             400.0   \n",
       "\n",
       "   cleaning_fee  guests_included  extra_people  minimum_nights  \\\n",
       "0          30.0                1          28.0               4   \n",
       "2          50.0                2          20.0              62   \n",
       "3          30.0                1          18.0               5   \n",
       "4           0.0                1          24.0               2   \n",
       "5          80.0                5          10.0               6   \n",
       "\n",
       "   maximum_nights  availability_365 requires_license instant_bookable  \\\n",
       "0            1125               141                t                f   \n",
       "2            1125               220                t                t   \n",
       "3             360               297                t                f   \n",
       "4              10                26                t                f   \n",
       "5              14               137                t                f   \n",
       "\n",
       "  is_business_travel_ready          cancellation_policy  \\\n",
       "0                        f  strict_14_with_grace_period   \n",
       "2                        f  strict_14_with_grace_period   \n",
       "3                        f  strict_14_with_grace_period   \n",
       "4                        f                     moderate   \n",
       "5                        f  strict_14_with_grace_period   \n",
       "\n",
       "  require_guest_profile_picture require_guest_phone_verification  total_price  \\\n",
       "0                             f                                f         60.0   \n",
       "2                             f                                f         90.0   \n",
       "3                             f                                f         26.0   \n",
       "4                             f                                f         42.0   \n",
       "5                             f                                f        180.0   \n",
       "\n",
       "   distance  \n",
       "0  3.533182  \n",
       "2  3.695677  \n",
       "3  3.755285  \n",
       "4  4.550423  \n",
       "5  3.458693  "
      ]
     },
     "execution_count": 96,
     "metadata": {},
     "output_type": "execute_result"
    }
   ],
   "source": [
    "#Using the Lattitue and Logitude to convert to a distance from the city center,\n",
    "\n",
    "#source : https://www.kaggle.com/mhmdpkts/predict-price-ann-data-cleaning-future-engineering\n",
    "#create distance feature from latitude and longtitude \n",
    "from geopy.distance import great_circle\n",
    "def distance_from_berlin(lat, lon):\n",
    "    berlin_centre = (52.5027778, 13.404166666666667)\n",
    "    record = (lat, lon)\n",
    "    #returns surface distance in kilometers\n",
    "    return great_circle(berlin_centre, record).km\n",
    "\n",
    "#add distanse dataset\n",
    "df_na_filtered['distance'] = df_na_filtered.apply(lambda x: distance_from_berlin(x.latitude, x.longitude), axis=1)\n",
    "df_na_filtered.drop(['latitude', 'longitude'], axis=1, inplace=True)\n",
    "df_na_filtered.head()"
   ]
  },
  {
   "cell_type": "code",
   "execution_count": 97,
   "metadata": {},
   "outputs": [],
   "source": [
    "#Converting the boolean to 0 or 1 value,\n",
    "boolean_mapping =  {\n",
    "    'True':1, 'False':0,\n",
    "    't':1, 'f':0, \n",
    "    'T':1, 'F':0, \n",
    "     0:0, 1:1\n",
    "}\n",
    "\n",
    "boolean_features = [\"host_is_superhost\",\n",
    "                    \"host_has_profile_pic\",\n",
    "                    \"host_identity_verified\",\n",
    "                    \"requires_license\",\n",
    "                    \"instant_bookable\",\n",
    "                    \"is_business_travel_ready\",\n",
    "                    \"require_guest_profile_picture\",\n",
    "                    \"require_guest_phone_verification\"]\n",
    "\n",
    "for col in boolean_features:\n",
    "    df_na_filtered[col]= df_na_filtered[col].map(boolean_mapping)\n"
   ]
  },
  {
   "cell_type": "code",
   "execution_count": 98,
   "metadata": {},
   "outputs": [],
   "source": [
    "#Converting ammenities to a count\n",
    "#amenities count\n",
    "def amenities_counter(x):\n",
    "    return len(x.split(\",\"))\n",
    "\n",
    "\n",
    "df_na_filtered[\"amenities_count\"] = df_na_filtered.amenities.map(amenities_counter)\n",
    "df_na_filtered['Laptop_friendly_workspace'] = df_na_filtered['amenities'].str.contains('Laptop friendly workspace')\n",
    "df_na_filtered['TV'] = df_na_filtered['amenities'].str.contains('TV')\n",
    "df_na_filtered['Family_kid_friendly'] = df_na_filtered['amenities'].str.contains('Family/kid friendly')\n",
    "df_na_filtered['Host_greets_you'] = df_na_filtered['amenities'].str.contains('Host greets you')\n",
    "df_na_filtered['Smoking_allowed'] = df_na_filtered['amenities'].str.contains('Smoking allowed')\n",
    "df_na_filtered['Hot_water'] = df_na_filtered['amenities'].str.contains('Hot water')\n",
    "df_na_filtered['Fridge'] = df_na_filtered['amenities'].str.contains('Refrigerator')\n",
    "\n",
    "df_na_filtered['Laptop_friendly_workspace'] = df_na_filtered['Laptop_friendly_workspace'].map(boolean_mapping)\n",
    "df_na_filtered['TV'] = df_na_filtered['TV'].map(boolean_mapping)\n",
    "df_na_filtered['Family_kid_friendly'] = df_na_filtered['Family_kid_friendly'].map(boolean_mapping)\n",
    "df_na_filtered['Host_greets_you'] = df_na_filtered['Host_greets_you'].map(boolean_mapping)\n",
    "df_na_filtered['Smoking_allowed'] = df_na_filtered['Smoking_allowed'].map(boolean_mapping)\n",
    "df_na_filtered['Hot_water'] = df_na_filtered['Hot_water'].map(boolean_mapping)\n",
    "df_na_filtered['Fridge'] = df_na_filtered['Fridge'].map(boolean_mapping)\n",
    "\n",
    "amenities_columns = ['Laptop_friendly_workspace', 'TV', 'Family_kid_friendly', 'Host_greets_you', \n",
    "                     'Smoking_allowed', 'Hot_water', 'Fridge']\n",
    "\n",
    "\n",
    "\n",
    "#Drop the amenities column from prediction data-frame\n",
    "df_na_filtered.drop(['amenities'], axis=1, inplace=True)"
   ]
  },
  {
   "cell_type": "code",
   "execution_count": 99,
   "metadata": {},
   "outputs": [
    {
     "data": {
      "text/html": [
       "<div>\n",
       "<style scoped>\n",
       "    .dataframe tbody tr th:only-of-type {\n",
       "        vertical-align: middle;\n",
       "    }\n",
       "\n",
       "    .dataframe tbody tr th {\n",
       "        vertical-align: top;\n",
       "    }\n",
       "\n",
       "    .dataframe thead th {\n",
       "        text-align: right;\n",
       "    }\n",
       "</style>\n",
       "<table border=\"1\" class=\"dataframe\">\n",
       "  <thead>\n",
       "    <tr style=\"text-align: right;\">\n",
       "      <th></th>\n",
       "      <th>host_is_superhost</th>\n",
       "      <th>host_has_profile_pic</th>\n",
       "      <th>host_identity_verified</th>\n",
       "      <th>property_type</th>\n",
       "      <th>room_type</th>\n",
       "      <th>accommodates</th>\n",
       "      <th>bathrooms</th>\n",
       "      <th>bedrooms</th>\n",
       "      <th>beds</th>\n",
       "      <th>bed_type</th>\n",
       "      <th>security_deposit</th>\n",
       "      <th>cleaning_fee</th>\n",
       "      <th>guests_included</th>\n",
       "      <th>extra_people</th>\n",
       "      <th>minimum_nights</th>\n",
       "      <th>maximum_nights</th>\n",
       "      <th>availability_365</th>\n",
       "      <th>requires_license</th>\n",
       "      <th>instant_bookable</th>\n",
       "      <th>is_business_travel_ready</th>\n",
       "      <th>cancellation_policy</th>\n",
       "      <th>require_guest_profile_picture</th>\n",
       "      <th>require_guest_phone_verification</th>\n",
       "      <th>total_price</th>\n",
       "      <th>distance</th>\n",
       "      <th>amenities_count</th>\n",
       "      <th>Laptop_friendly_workspace</th>\n",
       "      <th>TV</th>\n",
       "      <th>Family_kid_friendly</th>\n",
       "      <th>Host_greets_you</th>\n",
       "      <th>Smoking_allowed</th>\n",
       "      <th>Hot_water</th>\n",
       "      <th>Fridge</th>\n",
       "    </tr>\n",
       "  </thead>\n",
       "  <tbody>\n",
       "    <tr>\n",
       "      <th>0</th>\n",
       "      <td>1</td>\n",
       "      <td>1</td>\n",
       "      <td>1</td>\n",
       "      <td>Guesthouse</td>\n",
       "      <td>Entire home/apt</td>\n",
       "      <td>3</td>\n",
       "      <td>1.0</td>\n",
       "      <td>1.0</td>\n",
       "      <td>2.0</td>\n",
       "      <td>Real Bed</td>\n",
       "      <td>200.0</td>\n",
       "      <td>30.0</td>\n",
       "      <td>1</td>\n",
       "      <td>28.0</td>\n",
       "      <td>4</td>\n",
       "      <td>1125</td>\n",
       "      <td>141</td>\n",
       "      <td>1</td>\n",
       "      <td>0</td>\n",
       "      <td>0</td>\n",
       "      <td>strict_14_with_grace_period</td>\n",
       "      <td>0</td>\n",
       "      <td>0</td>\n",
       "      <td>60.0</td>\n",
       "      <td>3.533182</td>\n",
       "      <td>29</td>\n",
       "      <td>1</td>\n",
       "      <td>1</td>\n",
       "      <td>1</td>\n",
       "      <td>0</td>\n",
       "      <td>0</td>\n",
       "      <td>1</td>\n",
       "      <td>1</td>\n",
       "    </tr>\n",
       "    <tr>\n",
       "      <th>2</th>\n",
       "      <td>0</td>\n",
       "      <td>1</td>\n",
       "      <td>1</td>\n",
       "      <td>Apartment</td>\n",
       "      <td>Entire home/apt</td>\n",
       "      <td>4</td>\n",
       "      <td>1.0</td>\n",
       "      <td>1.0</td>\n",
       "      <td>2.0</td>\n",
       "      <td>Real Bed</td>\n",
       "      <td>200.0</td>\n",
       "      <td>50.0</td>\n",
       "      <td>2</td>\n",
       "      <td>20.0</td>\n",
       "      <td>62</td>\n",
       "      <td>1125</td>\n",
       "      <td>220</td>\n",
       "      <td>1</td>\n",
       "      <td>1</td>\n",
       "      <td>0</td>\n",
       "      <td>strict_14_with_grace_period</td>\n",
       "      <td>0</td>\n",
       "      <td>0</td>\n",
       "      <td>90.0</td>\n",
       "      <td>3.695677</td>\n",
       "      <td>19</td>\n",
       "      <td>1</td>\n",
       "      <td>0</td>\n",
       "      <td>1</td>\n",
       "      <td>0</td>\n",
       "      <td>0</td>\n",
       "      <td>0</td>\n",
       "      <td>0</td>\n",
       "    </tr>\n",
       "    <tr>\n",
       "      <th>3</th>\n",
       "      <td>0</td>\n",
       "      <td>1</td>\n",
       "      <td>1</td>\n",
       "      <td>Apartment</td>\n",
       "      <td>Private room</td>\n",
       "      <td>2</td>\n",
       "      <td>1.0</td>\n",
       "      <td>1.0</td>\n",
       "      <td>1.0</td>\n",
       "      <td>Pull-out Sofa</td>\n",
       "      <td>250.0</td>\n",
       "      <td>30.0</td>\n",
       "      <td>1</td>\n",
       "      <td>18.0</td>\n",
       "      <td>5</td>\n",
       "      <td>360</td>\n",
       "      <td>297</td>\n",
       "      <td>1</td>\n",
       "      <td>0</td>\n",
       "      <td>0</td>\n",
       "      <td>strict_14_with_grace_period</td>\n",
       "      <td>0</td>\n",
       "      <td>0</td>\n",
       "      <td>26.0</td>\n",
       "      <td>3.755285</td>\n",
       "      <td>29</td>\n",
       "      <td>1</td>\n",
       "      <td>0</td>\n",
       "      <td>0</td>\n",
       "      <td>1</td>\n",
       "      <td>0</td>\n",
       "      <td>1</td>\n",
       "      <td>0</td>\n",
       "    </tr>\n",
       "    <tr>\n",
       "      <th>4</th>\n",
       "      <td>1</td>\n",
       "      <td>1</td>\n",
       "      <td>1</td>\n",
       "      <td>Apartment</td>\n",
       "      <td>Private room</td>\n",
       "      <td>2</td>\n",
       "      <td>1.0</td>\n",
       "      <td>1.0</td>\n",
       "      <td>2.0</td>\n",
       "      <td>Real Bed</td>\n",
       "      <td>0.0</td>\n",
       "      <td>0.0</td>\n",
       "      <td>1</td>\n",
       "      <td>24.0</td>\n",
       "      <td>2</td>\n",
       "      <td>10</td>\n",
       "      <td>26</td>\n",
       "      <td>1</td>\n",
       "      <td>0</td>\n",
       "      <td>0</td>\n",
       "      <td>moderate</td>\n",
       "      <td>0</td>\n",
       "      <td>0</td>\n",
       "      <td>42.0</td>\n",
       "      <td>4.550423</td>\n",
       "      <td>13</td>\n",
       "      <td>1</td>\n",
       "      <td>0</td>\n",
       "      <td>1</td>\n",
       "      <td>0</td>\n",
       "      <td>0</td>\n",
       "      <td>1</td>\n",
       "      <td>0</td>\n",
       "    </tr>\n",
       "    <tr>\n",
       "      <th>5</th>\n",
       "      <td>0</td>\n",
       "      <td>1</td>\n",
       "      <td>1</td>\n",
       "      <td>Apartment</td>\n",
       "      <td>Entire home/apt</td>\n",
       "      <td>7</td>\n",
       "      <td>2.5</td>\n",
       "      <td>4.0</td>\n",
       "      <td>7.0</td>\n",
       "      <td>Real Bed</td>\n",
       "      <td>400.0</td>\n",
       "      <td>80.0</td>\n",
       "      <td>5</td>\n",
       "      <td>10.0</td>\n",
       "      <td>6</td>\n",
       "      <td>14</td>\n",
       "      <td>137</td>\n",
       "      <td>1</td>\n",
       "      <td>0</td>\n",
       "      <td>0</td>\n",
       "      <td>strict_14_with_grace_period</td>\n",
       "      <td>0</td>\n",
       "      <td>0</td>\n",
       "      <td>180.0</td>\n",
       "      <td>3.458693</td>\n",
       "      <td>37</td>\n",
       "      <td>0</td>\n",
       "      <td>1</td>\n",
       "      <td>1</td>\n",
       "      <td>0</td>\n",
       "      <td>0</td>\n",
       "      <td>1</td>\n",
       "      <td>1</td>\n",
       "    </tr>\n",
       "  </tbody>\n",
       "</table>\n",
       "</div>"
      ],
      "text/plain": [
       "   host_is_superhost  host_has_profile_pic  host_identity_verified  \\\n",
       "0                  1                     1                       1   \n",
       "2                  0                     1                       1   \n",
       "3                  0                     1                       1   \n",
       "4                  1                     1                       1   \n",
       "5                  0                     1                       1   \n",
       "\n",
       "  property_type        room_type  accommodates  bathrooms  bedrooms  beds  \\\n",
       "0    Guesthouse  Entire home/apt             3        1.0       1.0   2.0   \n",
       "2     Apartment  Entire home/apt             4        1.0       1.0   2.0   \n",
       "3     Apartment     Private room             2        1.0       1.0   1.0   \n",
       "4     Apartment     Private room             2        1.0       1.0   2.0   \n",
       "5     Apartment  Entire home/apt             7        2.5       4.0   7.0   \n",
       "\n",
       "        bed_type  security_deposit  cleaning_fee  guests_included  \\\n",
       "0       Real Bed             200.0          30.0                1   \n",
       "2       Real Bed             200.0          50.0                2   \n",
       "3  Pull-out Sofa             250.0          30.0                1   \n",
       "4       Real Bed               0.0           0.0                1   \n",
       "5       Real Bed             400.0          80.0                5   \n",
       "\n",
       "   extra_people  minimum_nights  maximum_nights  availability_365  \\\n",
       "0          28.0               4            1125               141   \n",
       "2          20.0              62            1125               220   \n",
       "3          18.0               5             360               297   \n",
       "4          24.0               2              10                26   \n",
       "5          10.0               6              14               137   \n",
       "\n",
       "   requires_license  instant_bookable  is_business_travel_ready  \\\n",
       "0                 1                 0                         0   \n",
       "2                 1                 1                         0   \n",
       "3                 1                 0                         0   \n",
       "4                 1                 0                         0   \n",
       "5                 1                 0                         0   \n",
       "\n",
       "           cancellation_policy  require_guest_profile_picture  \\\n",
       "0  strict_14_with_grace_period                              0   \n",
       "2  strict_14_with_grace_period                              0   \n",
       "3  strict_14_with_grace_period                              0   \n",
       "4                     moderate                              0   \n",
       "5  strict_14_with_grace_period                              0   \n",
       "\n",
       "   require_guest_phone_verification  total_price  distance  amenities_count  \\\n",
       "0                                 0         60.0  3.533182               29   \n",
       "2                                 0         90.0  3.695677               19   \n",
       "3                                 0         26.0  3.755285               29   \n",
       "4                                 0         42.0  4.550423               13   \n",
       "5                                 0        180.0  3.458693               37   \n",
       "\n",
       "   Laptop_friendly_workspace  TV  Family_kid_friendly  Host_greets_you  \\\n",
       "0                          1   1                    1                0   \n",
       "2                          1   0                    1                0   \n",
       "3                          1   0                    0                1   \n",
       "4                          1   0                    1                0   \n",
       "5                          0   1                    1                0   \n",
       "\n",
       "   Smoking_allowed  Hot_water  Fridge  \n",
       "0                0          1       1  \n",
       "2                0          0       0  \n",
       "3                0          1       0  \n",
       "4                0          1       0  \n",
       "5                0          1       1  "
      ]
     },
     "execution_count": 99,
     "metadata": {},
     "output_type": "execute_result"
    }
   ],
   "source": [
    "df_na_filtered.head()"
   ]
  },
  {
   "cell_type": "markdown",
   "metadata": {},
   "source": [
    "Choose either to include individual Ammenities or just the count of ammenities in prediction, by concatinating the values"
   ]
  },
  {
   "cell_type": "markdown",
   "metadata": {},
   "source": [
    "We will reoriganize the property_type in to smaller set of types : "
   ]
  },
  {
   "cell_type": "code",
   "execution_count": 100,
   "metadata": {},
   "outputs": [],
   "source": [
    "#Property Types:\n",
    "property_mapping = {'Guesthouse':'Guesthouse', \n",
    "                    'Apartment':'Apartment', \n",
    "                    'Condominium':'Apartment', \n",
    "                    'Loft':'others',\n",
    "                    'House':'Apartment',\n",
    "                    'Serviced apartment':'Apartment',\n",
    "                    'Townhouse':'Apartment',\n",
    "                    'Boutique hotel':'Hotel',\n",
    "                    'Bed and breakfast':'Hotel',\n",
    "                    'Bungalow':'Apartment',\n",
    "                    'Boat':'others',\n",
    "                    'Guest suite':'Guesthouse',\n",
    "                    'Other':'others',\n",
    "                    'Island':'others',\n",
    "                    'Hostel':'others',\n",
    "                    'Train':'others',\n",
    "                    'Camper/RV':'others',\n",
    "                    'Houseboat':'others',\n",
    "                    'Cabin':'others',\n",
    "                    'Cottage':'Apartment',\n",
    "                    'Tiny house':'Apartment',\n",
    "                    'Chalet':'others',\n",
    "                    'Castle':'others',\n",
    "                    'Villa':'Apartment',\n",
    "                    'Aparthotel':'others',\n",
    "                    'Hotel':'Hotel',\n",
    "                    'Tipi':'others',\n",
    "                    'Resort':'Hotel',\n",
    "                    'In-law':'others',\n",
    "                    'Cave':'others',\n",
    "                    'Barn':'others',\n",
    "                    'Pension (South Korea)':'others',\n",
    "                    'Guesthouse':'Guesthouse',\n",
    "                    'Casa particular (Cuba)':'others',\n",
    "                    'others':'others'}\n",
    "df_na_filtered['property_type']=df_na_filtered['property_type'].map(property_mapping)\n",
    "# sns.set(style=\"darkgrid\")\n",
    "# fig, ax = plt.subplots()\n",
    "# sns.countplot(x=\"property_type\", data=df_na_filtered)\n",
    "# sns.despine()"
   ]
  },
  {
   "cell_type": "code",
   "execution_count": 101,
   "metadata": {},
   "outputs": [],
   "source": [
    "# #Trying the same with Labelencoder\n",
    "# from sklearn.preprocessing import LabelEncoder# creating initial dataframe\n",
    "# labelencoder = LabelEncoder()\n",
    "# df_na_filtered['property_type'] = labelencoder.fit_transform(df_na_filtered['property_type'])\n",
    "# df_na_filtered.head()"
   ]
  },
  {
   "cell_type": "code",
   "execution_count": 102,
   "metadata": {},
   "outputs": [],
   "source": [
    "# sns.set(style=\"darkgrid\")\n",
    "# fig, ax = plt.subplots()\n",
    "# fig.set_size_inches(20, 5)\n",
    "# sns.countplot(x=\"neighbourhood_group_cleansed\", data=df_na_filtered)\n",
    "# sns.despine()"
   ]
  },
  {
   "cell_type": "code",
   "execution_count": 103,
   "metadata": {},
   "outputs": [],
   "source": [
    "#sns.set(style=\"darkgrid\")\n",
    "#fig, ax = plt.subplots()\n",
    "#sns.countplot(x=\"room_type\", data=df_na_filtered)\n",
    "#sns.despine()"
   ]
  },
  {
   "cell_type": "code",
   "execution_count": 104,
   "metadata": {},
   "outputs": [],
   "source": [
    "#Drop or include the room_type\n",
    "#df_na_filtered.drop(['room_type'], inplace=True, axis=1)\n",
    "#df_na_filtered.head()"
   ]
  },
  {
   "cell_type": "code",
   "execution_count": 105,
   "metadata": {},
   "outputs": [],
   "source": [
    "df_na_filtered[\"bed_type\"].unique()\n",
    "bed_mapping =  {'Real Bed':'Real Bed', \n",
    "                'Others':'Others',\n",
    "                'Pull-out Sofa': 'Others',\n",
    "                'Couch':'Others',\n",
    "                'Futon':'Others',\n",
    "                'Airbed':'Others'}\n",
    "df_na_filtered['bed_type']=df_na_filtered['bed_type'].map(bed_mapping)"
   ]
  },
  {
   "cell_type": "code",
   "execution_count": 106,
   "metadata": {},
   "outputs": [],
   "source": [
    "df_na_filtered[\"cancellation_policy\"].unique()\n",
    "cancellation_mapping =  {'strict_14_with_grace_period':'strict', \n",
    "                'flexible':'flexible',\n",
    "                'moderate': 'moderate',\n",
    "                'super_strict_30':'strict',\n",
    "                'super_strict_60':'strict',\n",
    "                'strict':'strict'}\n",
    "df_na_filtered['cancellation_policy']=df_na_filtered['cancellation_policy'].map(cancellation_mapping)"
   ]
  },
  {
   "cell_type": "code",
   "execution_count": 107,
   "metadata": {},
   "outputs": [],
   "source": [
    "#Generate a Categorical and Numerical Column List\n",
    "numerical_columns = []\n",
    "categoical_columns = []\n",
    "for column in df_na_filtered.columns:\n",
    "    if df_na_filtered[column].dtype == 'object':\n",
    "        categoical_columns.append(column)\n",
    "    else:\n",
    "        numerical_columns.append(column)\n",
    "\n",
    "data_frame_for_prediction = df_na_filtered.iloc[:, :].copy(deep=True)\n",
    "#You could choose to use either label encoder or one hot encoding\n",
    "data_frame_for_prediction = pd.get_dummies(data_frame_for_prediction, columns=categoical_columns)"
   ]
  },
  {
   "cell_type": "markdown",
   "metadata": {},
   "source": [
    "<h1> Data Engineering </h1>"
   ]
  },
  {
   "cell_type": "code",
   "execution_count": 108,
   "metadata": {},
   "outputs": [
    {
     "name": "stdout",
     "output_type": "stream",
     "text": [
      "\n",
      "Price Analysis\n",
      "\n",
      "count    20560.000000\n",
      "mean        67.202335\n",
      "std        220.689925\n",
      "min          0.000000\n",
      "25%         30.000000\n",
      "50%         45.000000\n",
      "75%         70.000000\n",
      "max       8600.000000\n",
      "Name: total_price, dtype: float64\n"
     ]
    }
   ],
   "source": [
    "#lets start with prices\n",
    "#red_square = dict(markerfacecolor='r', markeredgecolor='r', marker='.')\n",
    "#data_frame_for_prediction['total_price'].plot(kind='box', xlim=(0, 1000), vert=False, flierprops=red_square, figsize=(16,2))\n",
    "df_prices = data_frame_for_prediction[ (data_frame_for_prediction.total_price > 1000) | (data_frame_for_prediction.total_price == 0) ]\n",
    "print(\"\\nPrice Analysis\\n\")\n",
    "print(data_frame_for_prediction['total_price'].describe())"
   ]
  },
  {
   "cell_type": "code",
   "execution_count": 109,
   "metadata": {},
   "outputs": [],
   "source": [
    "#we will drop all the columns that are going to be beyond 2500 unit price range, this is an feature engineering test and can be optinally tested\n",
    "data_frame_for_prediction.drop(data_frame_for_prediction[ (data_frame_for_prediction.total_price > 1000) | (data_frame_for_prediction.total_price == 0) ].index, axis=0, inplace=True)"
   ]
  },
  {
   "cell_type": "code",
   "execution_count": 110,
   "metadata": {},
   "outputs": [],
   "source": [
    "#plt.figure(1)\n",
    "#f, axarr = plt.subplots(3, 2, figsize=(10, 9))\n",
    "#sns.scatterplot(x='host_is_superhost', y= 'total_price', data = data_frame_for_prediction,ax= axarr[0, 0])\n",
    "#sns.scatterplot(x='host_identity_verified', y= 'total_price', data = data_frame_for_prediction,ax= axarr[0, 1])\n",
    "#sns.scatterplot(x='requires_license', y= 'total_price', data = data_frame_for_prediction,ax= axarr[1, 0])\n",
    "#sns.scatterplot(x='require_guest_profile_picture', y= 'total_price', data = data_frame_for_prediction,ax= axarr[1, 1])\n",
    "#sns.scatterplot(x='require_guest_phone_verification', y= 'total_price', data = data_frame_for_prediction,ax= axarr[2, 0])\n",
    "#sns.scatterplot(x='host_has_profile_pic', y= 'total_price', data = data_frame_for_prediction,ax= axarr[2, 1])\n",
    "#plt.tight_layout()\n",
    "#plt.show()"
   ]
  },
  {
   "cell_type": "code",
   "execution_count": 111,
   "metadata": {},
   "outputs": [],
   "source": [
    "data_frame_for_prediction.drop([\"host_is_superhost\",\n",
    "                                \"host_identity_verified\", \n",
    "                                \"require_guest_profile_picture\",\n",
    "                                \"require_guest_phone_verification\"], inplace=True, axis=1)"
   ]
  },
  {
   "cell_type": "code",
   "execution_count": 112,
   "metadata": {},
   "outputs": [],
   "source": [
    "#Dropping the amenities and check the prediction\n",
    "df_without_ammenities = data_frame_for_prediction.drop(amenities_columns, inplace=False, axis=1).copy(deep=True)"
   ]
  },
  {
   "cell_type": "code",
   "execution_count": 113,
   "metadata": {},
   "outputs": [],
   "source": [
    "#df_without_ammenities.head()"
   ]
  },
  {
   "cell_type": "markdown",
   "metadata": {},
   "source": [
    "<h1> Model Training and Validation using K-Fold Cross Validation</h1>"
   ]
  },
  {
   "cell_type": "code",
   "execution_count": 114,
   "metadata": {},
   "outputs": [],
   "source": [
    "from sklearn.model_selection import KFold\n",
    "from sklearn.model_selection import train_test_split\n",
    "from sklearn.preprocessing import StandardScaler\n",
    "from sklearn.ensemble import RandomForestRegressor\n",
    "from sklearn.linear_model import LinearRegression\n",
    "from sklearn.metrics import mean_squared_error, r2_score\n",
    "from sklearn.metrics import accuracy_score\n",
    "from sklearn.linear_model import Ridge\n",
    "import xgboost as xgb\n"
   ]
  },
  {
   "cell_type": "code",
   "execution_count": 115,
   "metadata": {},
   "outputs": [],
   "source": [
    "def print_performance(accuracy_model_train, accuracy_model_test, K):\n",
    "    avg_r = 0;\n",
    "    avg_rmse = 0;\n",
    "    print(\"\\nTraining:\")\n",
    "    for (r, rmse) in accuracy_model_train:\n",
    "        avg_r = avg_r + r\n",
    "        avg_rmse = avg_rmse + rmse\n",
    "    print(\"\\nR2 = {}  RMSE= {}\".format(round(avg_r/K, 3), round(avg_rmse/K, 3)))\n",
    "\n",
    "    avg_r = 0;\n",
    "    avg_rmse = 0;    \n",
    "    print(\"\\nTesting:\")    \n",
    "    for (r, rmse) in accuracy_model_test:\n",
    "        avg_r = avg_r + r;\n",
    "        avg_rmse = avg_rmse + rmse\n",
    "\n",
    "    print(\"\\nR2 = {}  RMSE= {}\".format(round(avg_r/K, 3), round(avg_rmse/K, 3)))\n",
    "    "
   ]
  },
  {
   "cell_type": "code",
   "execution_count": 116,
   "metadata": {},
   "outputs": [],
   "source": [
    "#K-fold Validation :\n",
    "def train_model(model, b_transform):\n",
    "    df_kfold = data_frame_for_prediction.copy(deep=True)\n",
    "\n",
    "    #columns in prediction :\n",
    "    y = df_kfold['total_price'].copy(deep=True)\n",
    "    df_kfold.drop(['total_price'], inplace=True, axis=1)\n",
    "    X =  df_kfold\n",
    "\n",
    "    #scale all the values\n",
    "    sc = StandardScaler()\n",
    "    K = 10\n",
    "    kf = KFold(n_splits = K, random_state=None, shuffle=True)\n",
    "    iterationCount = 1\n",
    "    accuracy_model_train = []\n",
    "    accuracy_model_test = []\n",
    "\n",
    "    for train_index, test_index in kf.split(X):\n",
    "                print(\"\\n Fold \", iterationCount)\n",
    "                #print(\"TRAIN:\", train_index, \"TEST:\", test_index)\n",
    "                X_train, X_test =  X.iloc[train_index,:], X.iloc[test_index,:]\n",
    "                y_train, y_test = y.iloc[train_index], y.iloc[test_index]\n",
    "                if b_transform == 1:\n",
    "                    X_train = sc.fit_transform(X_train)\n",
    "                    X_test  = sc.fit_transform(X_test)\n",
    "                model.fit(X_train, y_train) \n",
    "\n",
    "                y_pred_train = model.predict(X_train)\n",
    "                r2_train = r2_score(y_train, y_pred_train)\n",
    "\n",
    "                y_pred_test = model.predict(X_test)\n",
    "                r2_test = r2_score(y_test, y_pred_test)\n",
    "\n",
    "                accuracy_model_train.append([r2_train, mean_squared_error(y_train, y_pred_train,  squared=False)])\n",
    "                accuracy_model_test.append([r2_test, mean_squared_error(y_test, y_pred_test,  squared=False)])\n",
    "                \n",
    "                iterationCount = iterationCount + 1   \n",
    "    print_performance(accuracy_model_train, accuracy_model_test, K)"
   ]
  },
  {
   "cell_type": "code",
   "execution_count": 117,
   "metadata": {},
   "outputs": [
    {
     "name": "stdout",
     "output_type": "stream",
     "text": [
      "\n",
      "***********************************\n",
      "\n",
      "\n",
      "Linear Regression\n",
      "\n",
      "\n",
      " Fold  1\n",
      "\n",
      " Fold  2\n",
      "\n",
      " Fold  3\n",
      "\n",
      " Fold  4\n",
      "\n",
      " Fold  5\n",
      "\n",
      " Fold  6\n",
      "\n",
      " Fold  7\n",
      "\n",
      " Fold  8\n",
      "\n",
      " Fold  9\n",
      "\n",
      " Fold  10\n",
      "\n",
      "Training:\n",
      "\n",
      "R2 = 0.409  RMSE= 40.009\n",
      "\n",
      "Testing:\n",
      "\n",
      "R2 = 0.39  RMSE= 40.476\n"
     ]
    }
   ],
   "source": [
    "print(\"\\n***********************************\\n\")\n",
    "print(\"\\nLinear Regression\\n\")\n",
    "model =  LinearRegression()\n",
    "train_model(model, 0)"
   ]
  },
  {
   "cell_type": "code",
   "execution_count": 118,
   "metadata": {},
   "outputs": [
    {
     "name": "stdout",
     "output_type": "stream",
     "text": [
      "\n",
      "***********************************\n",
      "\n",
      "\n",
      "Ridge Regression\n",
      "\n",
      "\n",
      " Fold  1\n",
      "\n",
      " Fold  2\n",
      "\n",
      " Fold  3\n",
      "\n",
      " Fold  4\n",
      "\n",
      " Fold  5\n",
      "\n",
      " Fold  6\n",
      "\n",
      " Fold  7\n",
      "\n",
      " Fold  8\n",
      "\n",
      " Fold  9\n",
      "\n",
      " Fold  10\n",
      "\n",
      "Training:\n",
      "\n",
      "R2 = 0.409  RMSE= 40.007\n",
      "\n",
      "Testing:\n",
      "\n",
      "R2 = 0.41  RMSE= 39.897\n"
     ]
    }
   ],
   "source": [
    "\n",
    "print(\"\\n***********************************\\n\")\n",
    "print(\"\\nRidge Regression\\n\")\n",
    "model =  Ridge()\n",
    "train_model(model, 1)\n"
   ]
  },
  {
   "cell_type": "code",
   "execution_count": 120,
   "metadata": {},
   "outputs": [
    {
     "name": "stdout",
     "output_type": "stream",
     "text": [
      "\n",
      "***********************************\n",
      "\n",
      "\n",
      "Random Forest Regressor\n",
      "\n",
      "\n",
      " Fold  1\n"
     ]
    },
    {
     "name": "stderr",
     "output_type": "stream",
     "text": [
      "[Parallel(n_jobs=-1)]: Using backend ThreadingBackend with 4 concurrent workers.\n",
      "[Parallel(n_jobs=-1)]: Done  42 tasks      | elapsed:    0.5s\n",
      "[Parallel(n_jobs=-1)]: Done 192 tasks      | elapsed:    2.1s\n",
      "[Parallel(n_jobs=-1)]: Done 200 out of 200 | elapsed:    2.2s finished\n",
      "[Parallel(n_jobs=4)]: Using backend ThreadingBackend with 4 concurrent workers.\n",
      "[Parallel(n_jobs=4)]: Done  42 tasks      | elapsed:    0.0s\n",
      "[Parallel(n_jobs=4)]: Done 192 tasks      | elapsed:    0.0s\n",
      "[Parallel(n_jobs=4)]: Done 200 out of 200 | elapsed:    0.0s finished\n",
      "[Parallel(n_jobs=4)]: Using backend ThreadingBackend with 4 concurrent workers.\n",
      "[Parallel(n_jobs=4)]: Done  42 tasks      | elapsed:    0.0s\n",
      "[Parallel(n_jobs=4)]: Done 192 tasks      | elapsed:    0.0s\n",
      "[Parallel(n_jobs=4)]: Done 200 out of 200 | elapsed:    0.0s finished\n"
     ]
    },
    {
     "name": "stdout",
     "output_type": "stream",
     "text": [
      "\n",
      " Fold  2\n"
     ]
    },
    {
     "name": "stderr",
     "output_type": "stream",
     "text": [
      "[Parallel(n_jobs=-1)]: Using backend ThreadingBackend with 4 concurrent workers.\n",
      "[Parallel(n_jobs=-1)]: Done  42 tasks      | elapsed:    0.4s\n",
      "[Parallel(n_jobs=-1)]: Done 192 tasks      | elapsed:    3.6s\n",
      "[Parallel(n_jobs=-1)]: Done 200 out of 200 | elapsed:    3.6s finished\n",
      "[Parallel(n_jobs=4)]: Using backend ThreadingBackend with 4 concurrent workers.\n",
      "[Parallel(n_jobs=4)]: Done  42 tasks      | elapsed:    0.0s\n",
      "[Parallel(n_jobs=4)]: Done 192 tasks      | elapsed:    0.1s\n",
      "[Parallel(n_jobs=4)]: Done 200 out of 200 | elapsed:    0.1s finished\n",
      "[Parallel(n_jobs=4)]: Using backend ThreadingBackend with 4 concurrent workers.\n",
      "[Parallel(n_jobs=4)]: Done  42 tasks      | elapsed:    0.0s\n",
      "[Parallel(n_jobs=4)]: Done 192 tasks      | elapsed:    0.0s\n",
      "[Parallel(n_jobs=4)]: Done 200 out of 200 | elapsed:    0.0s finished\n"
     ]
    },
    {
     "name": "stdout",
     "output_type": "stream",
     "text": [
      "\n",
      " Fold  3\n"
     ]
    },
    {
     "name": "stderr",
     "output_type": "stream",
     "text": [
      "[Parallel(n_jobs=-1)]: Using backend ThreadingBackend with 4 concurrent workers.\n",
      "[Parallel(n_jobs=-1)]: Done  42 tasks      | elapsed:    0.5s\n",
      "[Parallel(n_jobs=-1)]: Done 192 tasks      | elapsed:    2.0s\n",
      "[Parallel(n_jobs=-1)]: Done 200 out of 200 | elapsed:    2.1s finished\n",
      "[Parallel(n_jobs=4)]: Using backend ThreadingBackend with 4 concurrent workers.\n",
      "[Parallel(n_jobs=4)]: Done  42 tasks      | elapsed:    0.0s\n",
      "[Parallel(n_jobs=4)]: Done 192 tasks      | elapsed:    0.0s\n",
      "[Parallel(n_jobs=4)]: Done 200 out of 200 | elapsed:    0.0s finished\n",
      "[Parallel(n_jobs=4)]: Using backend ThreadingBackend with 4 concurrent workers.\n",
      "[Parallel(n_jobs=4)]: Done  42 tasks      | elapsed:    0.0s\n",
      "[Parallel(n_jobs=4)]: Done 192 tasks      | elapsed:    0.0s\n",
      "[Parallel(n_jobs=4)]: Done 200 out of 200 | elapsed:    0.0s finished\n"
     ]
    },
    {
     "name": "stdout",
     "output_type": "stream",
     "text": [
      "\n",
      " Fold  4\n"
     ]
    },
    {
     "name": "stderr",
     "output_type": "stream",
     "text": [
      "[Parallel(n_jobs=-1)]: Using backend ThreadingBackend with 4 concurrent workers.\n",
      "[Parallel(n_jobs=-1)]: Done  42 tasks      | elapsed:    0.7s\n",
      "[Parallel(n_jobs=-1)]: Done 192 tasks      | elapsed:    2.5s\n",
      "[Parallel(n_jobs=-1)]: Done 200 out of 200 | elapsed:    2.5s finished\n",
      "[Parallel(n_jobs=4)]: Using backend ThreadingBackend with 4 concurrent workers.\n",
      "[Parallel(n_jobs=4)]: Done  42 tasks      | elapsed:    0.0s\n",
      "[Parallel(n_jobs=4)]: Done 192 tasks      | elapsed:    0.1s\n",
      "[Parallel(n_jobs=4)]: Done 200 out of 200 | elapsed:    0.1s finished\n",
      "[Parallel(n_jobs=4)]: Using backend ThreadingBackend with 4 concurrent workers.\n",
      "[Parallel(n_jobs=4)]: Done  42 tasks      | elapsed:    0.0s\n",
      "[Parallel(n_jobs=4)]: Done 192 tasks      | elapsed:    0.0s\n",
      "[Parallel(n_jobs=4)]: Done 200 out of 200 | elapsed:    0.0s finished\n"
     ]
    },
    {
     "name": "stdout",
     "output_type": "stream",
     "text": [
      "\n",
      " Fold  5\n"
     ]
    },
    {
     "name": "stderr",
     "output_type": "stream",
     "text": [
      "[Parallel(n_jobs=-1)]: Using backend ThreadingBackend with 4 concurrent workers.\n",
      "[Parallel(n_jobs=-1)]: Done  42 tasks      | elapsed:    0.7s\n",
      "[Parallel(n_jobs=-1)]: Done 192 tasks      | elapsed:    2.7s\n",
      "[Parallel(n_jobs=-1)]: Done 200 out of 200 | elapsed:    2.7s finished\n",
      "[Parallel(n_jobs=4)]: Using backend ThreadingBackend with 4 concurrent workers.\n",
      "[Parallel(n_jobs=4)]: Done  42 tasks      | elapsed:    0.0s\n",
      "[Parallel(n_jobs=4)]: Done 192 tasks      | elapsed:    0.0s\n",
      "[Parallel(n_jobs=4)]: Done 200 out of 200 | elapsed:    0.0s finished\n",
      "[Parallel(n_jobs=4)]: Using backend ThreadingBackend with 4 concurrent workers.\n",
      "[Parallel(n_jobs=4)]: Done  42 tasks      | elapsed:    0.0s\n",
      "[Parallel(n_jobs=4)]: Done 192 tasks      | elapsed:    0.0s\n",
      "[Parallel(n_jobs=4)]: Done 200 out of 200 | elapsed:    0.0s finished\n",
      "[Parallel(n_jobs=-1)]: Using backend ThreadingBackend with 4 concurrent workers.\n"
     ]
    },
    {
     "name": "stdout",
     "output_type": "stream",
     "text": [
      "\n",
      " Fold  6\n"
     ]
    },
    {
     "name": "stderr",
     "output_type": "stream",
     "text": [
      "[Parallel(n_jobs=-1)]: Done  42 tasks      | elapsed:    0.5s\n",
      "[Parallel(n_jobs=-1)]: Done 192 tasks      | elapsed:    2.1s\n",
      "[Parallel(n_jobs=-1)]: Done 200 out of 200 | elapsed:    2.1s finished\n",
      "[Parallel(n_jobs=4)]: Using backend ThreadingBackend with 4 concurrent workers.\n",
      "[Parallel(n_jobs=4)]: Done  42 tasks      | elapsed:    0.0s\n",
      "[Parallel(n_jobs=4)]: Done 192 tasks      | elapsed:    0.1s\n",
      "[Parallel(n_jobs=4)]: Done 200 out of 200 | elapsed:    0.1s finished\n",
      "[Parallel(n_jobs=4)]: Using backend ThreadingBackend with 4 concurrent workers.\n",
      "[Parallel(n_jobs=4)]: Done  42 tasks      | elapsed:    0.0s\n",
      "[Parallel(n_jobs=4)]: Done 192 tasks      | elapsed:    0.0s\n",
      "[Parallel(n_jobs=4)]: Done 200 out of 200 | elapsed:    0.0s finished\n",
      "[Parallel(n_jobs=-1)]: Using backend ThreadingBackend with 4 concurrent workers.\n"
     ]
    },
    {
     "name": "stdout",
     "output_type": "stream",
     "text": [
      "\n",
      " Fold  7\n"
     ]
    },
    {
     "name": "stderr",
     "output_type": "stream",
     "text": [
      "[Parallel(n_jobs=-1)]: Done  42 tasks      | elapsed:    0.4s\n",
      "[Parallel(n_jobs=-1)]: Done 192 tasks      | elapsed:    2.0s\n",
      "[Parallel(n_jobs=-1)]: Done 200 out of 200 | elapsed:    2.0s finished\n",
      "[Parallel(n_jobs=4)]: Using backend ThreadingBackend with 4 concurrent workers.\n",
      "[Parallel(n_jobs=4)]: Done  42 tasks      | elapsed:    0.0s\n",
      "[Parallel(n_jobs=4)]: Done 192 tasks      | elapsed:    0.0s\n",
      "[Parallel(n_jobs=4)]: Done 200 out of 200 | elapsed:    0.0s finished\n",
      "[Parallel(n_jobs=4)]: Using backend ThreadingBackend with 4 concurrent workers.\n",
      "[Parallel(n_jobs=4)]: Done  42 tasks      | elapsed:    0.0s\n",
      "[Parallel(n_jobs=4)]: Done 192 tasks      | elapsed:    0.0s\n",
      "[Parallel(n_jobs=4)]: Done 200 out of 200 | elapsed:    0.0s finished\n",
      "[Parallel(n_jobs=-1)]: Using backend ThreadingBackend with 4 concurrent workers.\n"
     ]
    },
    {
     "name": "stdout",
     "output_type": "stream",
     "text": [
      "\n",
      " Fold  8\n"
     ]
    },
    {
     "name": "stderr",
     "output_type": "stream",
     "text": [
      "[Parallel(n_jobs=-1)]: Done  42 tasks      | elapsed:    0.5s\n",
      "[Parallel(n_jobs=-1)]: Done 192 tasks      | elapsed:    2.0s\n",
      "[Parallel(n_jobs=-1)]: Done 200 out of 200 | elapsed:    2.1s finished\n",
      "[Parallel(n_jobs=4)]: Using backend ThreadingBackend with 4 concurrent workers.\n",
      "[Parallel(n_jobs=4)]: Done  42 tasks      | elapsed:    0.0s\n",
      "[Parallel(n_jobs=4)]: Done 192 tasks      | elapsed:    0.0s\n",
      "[Parallel(n_jobs=4)]: Done 200 out of 200 | elapsed:    0.1s finished\n",
      "[Parallel(n_jobs=4)]: Using backend ThreadingBackend with 4 concurrent workers.\n",
      "[Parallel(n_jobs=4)]: Done  42 tasks      | elapsed:    0.0s\n",
      "[Parallel(n_jobs=4)]: Done 192 tasks      | elapsed:    0.0s\n",
      "[Parallel(n_jobs=4)]: Done 200 out of 200 | elapsed:    0.0s finished\n"
     ]
    },
    {
     "name": "stdout",
     "output_type": "stream",
     "text": [
      "\n",
      " Fold  9\n"
     ]
    },
    {
     "name": "stderr",
     "output_type": "stream",
     "text": [
      "[Parallel(n_jobs=-1)]: Using backend ThreadingBackend with 4 concurrent workers.\n",
      "[Parallel(n_jobs=-1)]: Done  42 tasks      | elapsed:    0.5s\n",
      "[Parallel(n_jobs=-1)]: Done 192 tasks      | elapsed:    2.6s\n",
      "[Parallel(n_jobs=-1)]: Done 200 out of 200 | elapsed:    2.7s finished\n",
      "[Parallel(n_jobs=4)]: Using backend ThreadingBackend with 4 concurrent workers.\n",
      "[Parallel(n_jobs=4)]: Done  42 tasks      | elapsed:    0.0s\n",
      "[Parallel(n_jobs=4)]: Done 192 tasks      | elapsed:    0.0s\n",
      "[Parallel(n_jobs=4)]: Done 200 out of 200 | elapsed:    0.1s finished\n",
      "[Parallel(n_jobs=4)]: Using backend ThreadingBackend with 4 concurrent workers.\n",
      "[Parallel(n_jobs=4)]: Done  42 tasks      | elapsed:    0.0s\n",
      "[Parallel(n_jobs=4)]: Done 192 tasks      | elapsed:    0.0s\n",
      "[Parallel(n_jobs=4)]: Done 200 out of 200 | elapsed:    0.0s finished\n",
      "[Parallel(n_jobs=-1)]: Using backend ThreadingBackend with 4 concurrent workers.\n"
     ]
    },
    {
     "name": "stdout",
     "output_type": "stream",
     "text": [
      "\n",
      " Fold  10\n"
     ]
    },
    {
     "name": "stderr",
     "output_type": "stream",
     "text": [
      "[Parallel(n_jobs=-1)]: Done  42 tasks      | elapsed:    0.5s\n",
      "[Parallel(n_jobs=-1)]: Done 192 tasks      | elapsed:    2.2s\n",
      "[Parallel(n_jobs=-1)]: Done 200 out of 200 | elapsed:    2.3s finished\n",
      "[Parallel(n_jobs=4)]: Using backend ThreadingBackend with 4 concurrent workers.\n",
      "[Parallel(n_jobs=4)]: Done  42 tasks      | elapsed:    0.0s\n"
     ]
    },
    {
     "name": "stdout",
     "output_type": "stream",
     "text": [
      "\n",
      "Training:\n",
      "\n",
      "R2 = 0.517  RMSE= 36.143\n",
      "\n",
      "Testing:\n",
      "\n",
      "R2 = 0.38  RMSE= 40.72\n"
     ]
    },
    {
     "name": "stderr",
     "output_type": "stream",
     "text": [
      "[Parallel(n_jobs=4)]: Done 192 tasks      | elapsed:    0.0s\n",
      "[Parallel(n_jobs=4)]: Done 200 out of 200 | elapsed:    0.1s finished\n",
      "[Parallel(n_jobs=4)]: Using backend ThreadingBackend with 4 concurrent workers.\n",
      "[Parallel(n_jobs=4)]: Done  42 tasks      | elapsed:    0.0s\n",
      "[Parallel(n_jobs=4)]: Done 192 tasks      | elapsed:    0.0s\n",
      "[Parallel(n_jobs=4)]: Done 200 out of 200 | elapsed:    0.0s finished\n"
     ]
    }
   ],
   "source": [
    "\n",
    "print(\"\\n***********************************\\n\")\n",
    "print(\"\\nRandom Forest Regressor\\n\")\n",
    "model =  RandomForestRegressor(max_depth=5,verbose=1,random_state=0,n_estimators=200,n_jobs=-1)\n",
    "train_model(model, 1)\n"
   ]
  },
  {
   "cell_type": "code",
   "execution_count": 121,
   "metadata": {},
   "outputs": [
    {
     "name": "stdout",
     "output_type": "stream",
     "text": [
      "\n",
      "***********************************\n",
      "\n",
      "\n",
      "XG Boost - XGBRegressor\n",
      "\n",
      "\n",
      " Fold  1\n",
      "\n",
      " Fold  2\n",
      "\n",
      " Fold  3\n",
      "\n",
      " Fold  4\n",
      "\n",
      " Fold  5\n",
      "\n",
      " Fold  6\n",
      "\n",
      " Fold  7\n",
      "\n",
      " Fold  8\n",
      "\n",
      " Fold  9\n",
      "\n",
      " Fold  10\n",
      "\n",
      "Training:\n",
      "\n",
      "R2 = 0.835  RMSE= 21.128\n",
      "\n",
      "Testing:\n",
      "\n",
      "R2 = 0.437  RMSE= 38.492\n"
     ]
    }
   ],
   "source": [
    "\n",
    "print(\"\\n***********************************\\n\")\n",
    "print(\"\\nXG Boost - XGBRegressor\\n\")\n",
    "# instantiate xgboost with best parameters\n",
    "booster = xgb.XGBRegressor(colsample_bytree=0.7, gamma=0.2, learning_rate=0.1, \n",
    "                           max_depth=6, n_estimators=200, random_state=4,silent=True)\n",
    "\n",
    "train_model(booster, 1)"
   ]
  },
  {
   "cell_type": "code",
   "execution_count": 122,
   "metadata": {},
   "outputs": [
    {
     "name": "stdout",
     "output_type": "stream",
     "text": [
      "37\n"
     ]
    }
   ],
   "source": [
    "#Prepare the Training Data:\n",
    "from sklearn.preprocessing import StandardScaler\n",
    "#columns in prediction : \n",
    "columns_in_prediction = [col for col in data_frame_for_prediction.columns if col != \"total_price\"]\n",
    "X_train, X_test, y_train, y_test = train_test_split(data_frame_for_prediction[columns_in_prediction], data_frame_for_prediction['total_price'], test_size=0.2)\n",
    "\n",
    "#scale all the values\n",
    "sc = StandardScaler()\n",
    "X_train = sc.fit_transform(X_train)\n",
    "X_test  = sc.transform(X_test)\n",
    "\n",
    "print(len(data_frame_for_prediction.columns))"
   ]
  },
  {
   "cell_type": "code",
   "execution_count": 123,
   "metadata": {
    "scrolled": true
   },
   "outputs": [
    {
     "name": "stdout",
     "output_type": "stream",
     "text": [
      "\n",
      "Training RMSE: 33.18\n",
      "Validation RMSE: 38.34\n",
      "\n",
      "Training r2: 0.6\n",
      "Validation r2: 0.45\n"
     ]
    },
    {
     "data": {
      "image/png": "[encoded data removed]",
      "text/plain": [
       "<Figure size 576x576 with 1 Axes>"
      ]
     },
     "metadata": {},
     "output_type": "display_data"
    }
   ],
   "source": [
    "import xgboost as xgb\n",
    "\n",
    "# Fitting the model\n",
    "xgb_reg = xgb.XGBRegressor(silent=True)\n",
    "xgb_reg.fit(X_train, y_train)\n",
    "training_preds_xgb_reg = xgb_reg.predict(X_train)\n",
    "val_preds_xgb_reg = xgb_reg.predict(X_test)\n",
    "\n",
    "# Printing the results\n",
    "print(\"\\nTraining RMSE:\", round(mean_squared_error(y_train, training_preds_xgb_reg, squared=False),2))\n",
    "print(\"Validation RMSE:\", round(mean_squared_error(y_test, val_preds_xgb_reg, squared=False),2))\n",
    "print(\"\\nTraining r2:\", round(r2_score(y_train, training_preds_xgb_reg),2))\n",
    "print(\"Validation r2:\", round(r2_score(y_test, val_preds_xgb_reg),2))\n",
    "\n",
    "# Producing a dataframe of feature importances\n",
    "ft_weights_xgb_reg = pd.DataFrame(xgb_reg.feature_importances_, columns=['total_price'], index=columns_in_prediction)\n",
    "ft_weights_xgb_reg.sort_values('total_price', inplace=True)\n",
    "\n",
    "# Plotting feature importances\n",
    "plt.figure(figsize=(8,8))\n",
    "plt.barh(ft_weights_xgb_reg.index, ft_weights_xgb_reg['total_price'], align='center') \n",
    "plt.title(\"Feature importances in the XGBoost model\", fontsize=14)\n",
    "plt.xlabel(\"Feature importance\")\n",
    "plt.margins(y=0.01)\n",
    "plt.show()"
   ]
  },
  {
   "cell_type": "code",
   "execution_count": null,
   "metadata": {},
   "outputs": [],
   "source": []
  },
  {
   "cell_type": "code",
   "execution_count": null,
   "metadata": {},
   "outputs": [],
   "source": []
  }
 ],
 "metadata": {
  "kernelspec": {
   "display_name": "Python 3",
   "language": "python",
   "name": "python3"
  },
  "language_info": {
   "codemirror_mode": {
    "name": "ipython",
    "version": 3
   },
   "file_extension": ".py",
   "mimetype": "text/x-python",
   "name": "python",
   "nbconvert_exporter": "python",
   "pygments_lexer": "ipython3",
   "version": "3.7.6"
  }
 },
 "nbformat": 4,
 "nbformat_minor": 4
}
