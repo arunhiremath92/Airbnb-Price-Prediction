{
 "cells": [
  {
   "cell_type": "code",
   "execution_count": 36,
   "metadata": {},
   "outputs": [],
   "source": [
    "import pandas as pd\n",
    "import numpy as np\n",
    "from geopy.distance import great_circle\n",
    "df = pd.read_csv('listings_summary.csv')"
   ]
  },
  {
   "cell_type": "code",
   "execution_count": 37,
   "metadata": {},
   "outputs": [
    {
     "data": {
      "text/plain": [
       "0"
      ]
     },
     "execution_count": 37,
     "metadata": {},
     "output_type": "execute_result"
    }
   ],
   "source": [
    "# Data contains 22552 rows and 96 columns and no duplicate values\n",
    "df.shape\n",
    "df.duplicated().sum()"
   ]
  },
  {
   "cell_type": "code",
   "execution_count": 38,
   "metadata": {},
   "outputs": [],
   "source": [
    "#Convert the boolean columns to numeric values\n",
    "features_having_boolean = [\"require_guest_phone_verification\", \"host_is_superhost\", \"host_has_profile_pic\",\n",
    "                           \"host_identity_verified\", \"is_location_exact\", \"requires_license\", \"instant_bookable\"]\n",
    "\n",
    "def boolean_to_numeric(data):\n",
    "    if data == \"t\" or data == \"T\":\n",
    "        return 1.0\n",
    "    elif data == \"f\" or data == \"F\":\n",
    "        return 0.0\n",
    "    else:\n",
    "        return None\n",
    "    \n",
    "for i in features_having_boolean:\n",
    "    df[i] = df[i].map(boolean_to_numeric)\n",
    "    "
   ]
  },
  {
   "cell_type": "code",
   "execution_count": 39,
   "metadata": {},
   "outputs": [],
   "source": [
    "# Converts amenities to amenities count\n",
    "pd.options.mode.chained_assignment = None\n",
    "length = len(df[\"amenities\"])\n",
    "for i in range(0, length):\n",
    "    value = (df[\"amenities\"][i]).split(\",\")\n",
    "    df[\"amenities\"][i] = len(value)"
   ]
  },
  {
   "cell_type": "code",
   "execution_count": 40,
   "metadata": {},
   "outputs": [],
   "source": [
    "columns_to_keep = ['id','space', 'host_has_profile_pic', 'neighbourhood_group_cleansed', \n",
    "                   'latitude', 'longitude', 'property_type', 'room_type', 'accommodates', 'bathrooms',  \n",
    "                   'bedrooms', 'bed_type', 'amenities', 'square_feet', 'price', 'cleaning_fee', \n",
    "                   'security_deposit', 'extra_people', 'guests_included', 'minimum_nights',  \n",
    "                   'instant_bookable', 'is_business_travel_ready', 'cancellation_policy', \"is_location_exact\"]\n",
    "\n",
    "df = df[columns_to_keep]"
   ]
  },
  {
   "cell_type": "code",
   "execution_count": 41,
   "metadata": {},
   "outputs": [],
   "source": [
    "# Clean price value\n",
    "price_columns = [\"price\", \"extra_people\",\"cleaning_fee\", \"security_deposit\"]\n",
    "for col in price_columns:\n",
    "    for i in range(0, len(df)):\n",
    "        if not(isinstance(df[col][i],float)):\n",
    "            df[col][i] = (df[col][i]).replace(\"$\", \"\")\n",
    "            df[col][i] = (df[col][i]).replace(\",\", \"\")"
   ]
  },
  {
   "cell_type": "code",
   "execution_count": 42,
   "metadata": {},
   "outputs": [],
   "source": [
    "# Replacing the null price values to 0\n",
    "# There are pleanty of null values that means the charges are more likely 0\n",
    "# Cleaning fee - 7146 null values\n",
    "# Security deposit - 9361 null values\n",
    "\n",
    "obj_cols = ['cleaning_fee', 'security_deposit']\n",
    "for col in obj_cols:\n",
    "    df[col] = df[col].astype(float)\n",
    "    df[col].fillna(0, inplace=True)  "
   ]
  },
  {
   "cell_type": "code",
   "execution_count": 43,
   "metadata": {},
   "outputs": [
    {
     "data": {
      "text/plain": [
       "id                                  0\n",
       "space                            8532\n",
       "host_has_profile_pic               26\n",
       "neighbourhood_group_cleansed        0\n",
       "latitude                            0\n",
       "longitude                           0\n",
       "property_type                       0\n",
       "room_type                           0\n",
       "accommodates                        0\n",
       "bathrooms                          32\n",
       "bedrooms                           18\n",
       "bed_type                            0\n",
       "amenities                           0\n",
       "square_feet                     22106\n",
       "price                               0\n",
       "cleaning_fee                        0\n",
       "security_deposit                    0\n",
       "extra_people                        0\n",
       "guests_included                     0\n",
       "minimum_nights                      0\n",
       "instant_bookable                    0\n",
       "is_business_travel_ready            0\n",
       "cancellation_policy                 0\n",
       "is_location_exact                   0\n",
       "dtype: int64"
      ]
     },
     "execution_count": 43,
     "metadata": {},
     "output_type": "execute_result"
    }
   ],
   "source": [
    "null_cols = df.columns[df.isna().any()].tolist()   \n",
    "df.isna().sum()  "
   ]
  },
  {
   "cell_type": "code",
   "execution_count": 44,
   "metadata": {},
   "outputs": [],
   "source": [
    "# Drop columns with too many Null values\n",
    "df.drop(columns=['square_feet', 'space'], inplace=True)"
   ]
  },
  {
   "cell_type": "code",
   "execution_count": 45,
   "metadata": {},
   "outputs": [
    {
     "name": "stdout",
     "output_type": "stream",
     "text": [
      "Null values repalced by mean: ['host_has_profile_pic', 'bathrooms', 'bedrooms']\n"
     ]
    }
   ],
   "source": [
    "# Handle the null values using mean value\n",
    "numeric_cols = df.select_dtypes(include=[np.number]).columns.tolist()    \n",
    "numeric_df = df[numeric_cols]\n",
    "null_cols = numeric_df.columns[numeric_df.isna().any()].tolist()\n",
    "print(\"Null values repalced by mean:\", null_cols)\n",
    "for col in null_cols:\n",
    "      df[col] = df[col].mean()\n",
    "   "
   ]
  },
  {
   "cell_type": "code",
   "execution_count": 46,
   "metadata": {},
   "outputs": [],
   "source": [
    "# Handle longitude and latitude\n",
    "def distance_from_berlin(lat, lon):\n",
    "    berlin_centre = (52.5027778, 13.404166666666667)\n",
    "    record = (lat, lon)\n",
    "    return great_circle(berlin_centre, record).km\n",
    "\n",
    "#add distanse dataset\n",
    "df['distance'] = df.apply(lambda x: distance_from_berlin(x.latitude, x.longitude), axis=1)\n",
    "\n",
    "del df['latitude']\n",
    "del df['longitude']"
   ]
  },
  {
   "cell_type": "code",
   "execution_count": null,
   "metadata": {},
   "outputs": [],
   "source": []
  }
 ],
 "metadata": {
  "kernelspec": {
   "display_name": "Python 3",
   "language": "python",
   "name": "python3"
  },
  "language_info": {
   "codemirror_mode": {
    "name": "ipython",
    "version": 3
   },
   "file_extension": ".py",
   "mimetype": "text/x-python",
   "name": "python",
   "nbconvert_exporter": "python",
   "pygments_lexer": "ipython3",
   "version": "3.7.6"
  }
 },
 "nbformat": 4,
 "nbformat_minor": 4
}
